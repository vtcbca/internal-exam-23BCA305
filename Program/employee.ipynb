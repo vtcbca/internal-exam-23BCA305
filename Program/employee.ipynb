{
 "cells": [
  {
   "cell_type": "markdown",
   "id": "79d885d6-1fc9-4ed7-b573-1eb3a70f0fc1",
   "metadata": {},
   "source": [
    "#  Create table emp(empid, empname, salary) and insert 8 records. Print only those records where salary > 10000  and write this data into salary.csv file. Do all this task from python."
   ]
  },
  {
   "cell_type": "code",
   "execution_count": 1,
   "id": "5ea5ae8c-6009-43fd-939e-eaaf9fa6a91f",
   "metadata": {},
   "outputs": [],
   "source": [
    "import sqlite3 as sq"
   ]
  },
  {
   "cell_type": "code",
   "execution_count": 2,
   "id": "9befed0c-b051-43ad-849e-c61e6fe30d89",
   "metadata": {},
   "outputs": [],
   "source": [
    "conn=sq.connect(\"C:/23BCA305/sqlite-tools-win-x64-3460000/employee.db\")"
   ]
  },
  {
   "cell_type": "code",
   "execution_count": 3,
   "id": "47aad332-7342-4127-b000-54559a9b3ad9",
   "metadata": {},
   "outputs": [],
   "source": [
    "cur=conn.cursor()"
   ]
  },
  {
   "cell_type": "code",
   "execution_count": 4,
   "id": "9d34d478-3b66-4cfa-8d48-d1ebe37a4f8a",
   "metadata": {},
   "outputs": [
    {
     "data": {
      "text/plain": [
       "<sqlite3.Cursor at 0x28c4aad1b40>"
      ]
     },
     "execution_count": 4,
     "metadata": {},
     "output_type": "execute_result"
    }
   ],
   "source": [
    "cur.execute(\"create table if not exists emp(empid primary key,empname,salary)\")"
   ]
  },
  {
   "cell_type": "code",
   "execution_count": 5,
   "id": "0c2881ce-d4af-4ca8-b812-7d3086f01017",
   "metadata": {},
   "outputs": [
    {
     "data": {
      "text/plain": [
       "<sqlite3.Cursor at 0x28c4aad1b40>"
      ]
     },
     "execution_count": 5,
     "metadata": {},
     "output_type": "execute_result"
    }
   ],
   "source": [
    "cur.execute(\"insert into emp values(101,'om',8000),(102,'sai',9000),(103,'meet',20000),(104,'ram',25000),(105,'vishal',55000),(106,'nehal',50000),(107,'jay',30000),(108,'parth',35000)\")"
   ]
  },
  {
   "cell_type": "markdown",
   "id": "69462035-0751-4296-bcfa-254a4d65f0d7",
   "metadata": {},
   "source": [
    "### all recode print"
   ]
  },
  {
   "cell_type": "code",
   "execution_count": 6,
   "id": "013930fa-5a16-47f4-a661-0b4e77f1e5db",
   "metadata": {},
   "outputs": [
    {
     "data": {
      "text/plain": [
       "<sqlite3.Cursor at 0x28c4aad1b40>"
      ]
     },
     "execution_count": 6,
     "metadata": {},
     "output_type": "execute_result"
    }
   ],
   "source": [
    "cur.execute(\"select * from emp;\")"
   ]
  },
  {
   "cell_type": "code",
   "execution_count": 7,
   "id": "8c7b572b-3377-4f10-bc89-e728c238faa7",
   "metadata": {},
   "outputs": [],
   "source": [
    "r=cur.fetchall()"
   ]
  },
  {
   "cell_type": "code",
   "execution_count": 8,
   "id": "f08f08a9-e24d-4501-9fe0-57adef386fa0",
   "metadata": {},
   "outputs": [
    {
     "name": "stdout",
     "output_type": "stream",
     "text": [
      "[(101, 'om', 8000), (102, 'sai', 9000), (103, 'meet', 20000), (104, 'ram', 25000), (105, 'vishal', 55000), (106, 'nehal', 50000), (107, 'jay', 30000), (108, 'parth', 35000)]\n"
     ]
    }
   ],
   "source": [
    "print(r)"
   ]
  },
  {
   "cell_type": "markdown",
   "id": "0c75b9b4-71f1-4f85-92c2-ce89958afaaf",
   "metadata": {},
   "source": [
    "### Print only those records where salary > 10000 "
   ]
  },
  {
   "cell_type": "code",
   "execution_count": 9,
   "id": "4a03ae42-df48-408e-a48c-00502c49281b",
   "metadata": {},
   "outputs": [
    {
     "data": {
      "text/plain": [
       "<sqlite3.Cursor at 0x28c4aad1b40>"
      ]
     },
     "execution_count": 9,
     "metadata": {},
     "output_type": "execute_result"
    }
   ],
   "source": [
    "cur.execute(\"select * from emp where salary>10000\")"
   ]
  },
  {
   "cell_type": "code",
   "execution_count": 10,
   "id": "77bda91d-3530-4eab-91ef-510d02b9ddb6",
   "metadata": {},
   "outputs": [],
   "source": [
    "r=cur.fetchall()"
   ]
  },
  {
   "cell_type": "code",
   "execution_count": 11,
   "id": "5ae0443e-c36b-4ec8-8cab-8cc1155d0af2",
   "metadata": {},
   "outputs": [
    {
     "name": "stdout",
     "output_type": "stream",
     "text": [
      "[(103, 'meet', 20000), (104, 'ram', 25000), (105, 'vishal', 55000), (106, 'nehal', 50000), (107, 'jay', 30000), (108, 'parth', 35000)]\n"
     ]
    }
   ],
   "source": [
    "print(r)"
   ]
  },
  {
   "cell_type": "markdown",
   "id": "b7e7847b-37d6-4448-9f52-07bd250e8ced",
   "metadata": {},
   "source": [
    "### write this data into salary.csv file."
   ]
  },
  {
   "cell_type": "code",
   "execution_count": null,
   "id": "68eae229-4b3f-4397-9462-870577d0cf7e",
   "metadata": {},
   "outputs": [],
   "source": []
  }
 ],
 "metadata": {
  "kernelspec": {
   "display_name": "Python 3 (ipykernel)",
   "language": "python",
   "name": "python3"
  },
  "language_info": {
   "codemirror_mode": {
    "name": "ipython",
    "version": 3
   },
   "file_extension": ".py",
   "mimetype": "text/x-python",
   "name": "python",
   "nbconvert_exporter": "python",
   "pygments_lexer": "ipython3",
   "version": "3.12.4"
  }
 },
 "nbformat": 4,
 "nbformat_minor": 5
}
